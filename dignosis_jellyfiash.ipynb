{
 "cells": [
  {
   "cell_type": "code",
   "execution_count": 105,
   "metadata": {},
   "outputs": [],
   "source": [
    "# import some library\n",
    "import cv2 \n",
    "import pandas as pd \n",
    "import numpy as np\n",
    "import os"
   ]
  },
  {
   "cell_type": "code",
   "execution_count": 74,
   "metadata": {},
   "outputs": [],
   "source": [
    "list_of_jelly = ['barrel_jellyfish',\n",
    " 'lions_mane_jellyfish',\n",
    " 'blue_jellyfish',\n",
    " 'mauve_stinger_jellyfish',\n",
    " 'Moon_jellyfish',\n",
    " 'compass_jellyfish']"
   ]
  },
  {
   "cell_type": "code",
   "execution_count": 75,
   "metadata": {},
   "outputs": [],
   "source": [
    "jellyfish = ('jellyfish')"
   ]
  },
  {
   "cell_type": "code",
   "execution_count": 85,
   "metadata": {},
   "outputs": [],
   "source": [
    "for file_dir in list_of_jelly:\n",
    "    file_dir = os.path.join(jellyfish,file_dir)\n",
    "    for direction in os.listdir(file_dir):\n",
    "       if not direction.lower().endswith('jpg'):\n",
    "        file_path = os.path.join(file_dir,direction)\n",
    "        os.remove(file_path)"
   ]
  },
  {
   "cell_type": "code",
   "execution_count": 108,
   "metadata": {},
   "outputs": [],
   "source": [
    "x=[]\n",
    "y=[]\n",
    "\n",
    "for label in list_of_jelly:\n",
    "    for i in range(1,151):\n",
    "        image_name = os.path.join(jellyfish,label,f'o{i}.jpg')\n",
    "        result_of_exist = os.path.exists(image_name)\n",
    "        \n",
    "        if result_of_exist == False:\n",
    "            continue\n",
    "\n",
    "        img = cv2.imread(image_name)\n",
    "        img = cv2.resize(img,(500,500))\n",
    "        image_hsv = cv2.cvtColor(img,cv2.COLOR_BGR2HSV)\n",
    "        histogram = cv2.calcHist([image_hsv],[0,1,2],None,[8,8,8],[0,255,0,255,0,255])\n",
    "        cv2.normalize(histogram,histogram)\n",
    "        histogram_flatten = histogram.flatten()\n",
    "        image_gray = cv2.cvtColor(img,cv2.COLOR_BGR2GRAY)\n",
    "        hu = cv2.HuMoments(cv2.moments(image_gray)).flatten()\n",
    "        finaly = np.hstack([histogram_flatten,hu])\n",
    "        x.append(finaly)\n",
    "        y.append(label)"
   ]
  },
  {
   "cell_type": "code",
   "execution_count": 109,
   "metadata": {},
   "outputs": [
    {
     "data": {
      "text/plain": [
       "(882, 519)"
      ]
     },
     "execution_count": 109,
     "metadata": {},
     "output_type": "execute_result"
    }
   ],
   "source": [
    "np.shape(x)"
   ]
  },
  {
   "cell_type": "code",
   "execution_count": 110,
   "metadata": {},
   "outputs": [
    {
     "data": {
      "text/plain": [
       "(882,)"
      ]
     },
     "execution_count": 110,
     "metadata": {},
     "output_type": "execute_result"
    }
   ],
   "source": [
    "np.shape(y)"
   ]
  },
  {
   "cell_type": "code",
   "execution_count": 115,
   "metadata": {},
   "outputs": [],
   "source": [
    "from sklearn.preprocessing import LabelEncoder\n",
    "from sklearn.decomposition import PCA, KernelPCA\n",
    "from sklearn.model_selection import train_test_split\n",
    "from sklearn.linear_model import LogisticRegression"
   ]
  },
  {
   "cell_type": "code",
   "execution_count": 114,
   "metadata": {},
   "outputs": [],
   "source": [
    "le = LabelEncoder()\n",
    "y = le.fit_transform(y)"
   ]
  },
  {
   "cell_type": "code",
   "execution_count": 118,
   "metadata": {},
   "outputs": [],
   "source": [
    "\n",
    "kernelpca =KernelPCA(\n",
    "    n_components=25, kernel=\"rbf\", gamma=10, fit_inverse_transform=True, alpha=0.1\n",
    ")"
   ]
  },
  {
   "cell_type": "code",
   "execution_count": 119,
   "metadata": {},
   "outputs": [],
   "source": [
    "x_train,x_test,y_train,y_test = train_test_split(x,y,random_state=123)"
   ]
  },
  {
   "cell_type": "code",
   "execution_count": 120,
   "metadata": {},
   "outputs": [],
   "source": [
    "x_test_pca = kernelpca.fit(x_train).transform(x_test)"
   ]
  },
  {
   "cell_type": "code",
   "execution_count": 127,
   "metadata": {},
   "outputs": [
    {
     "data": {
      "text/plain": [
       "0.4841628959276018"
      ]
     },
     "execution_count": 127,
     "metadata": {},
     "output_type": "execute_result"
    }
   ],
   "source": [
    "model = LogisticRegression()\n",
    "out_put = model.fit(x_train,y_train)\n",
    "out_put.score(x_test,y_test)"
   ]
  },
  {
   "cell_type": "code",
   "execution_count": 122,
   "metadata": {},
   "outputs": [
    {
     "data": {
      "text/plain": [
       "(882,)"
      ]
     },
     "execution_count": 122,
     "metadata": {},
     "output_type": "execute_result"
    }
   ],
   "source": [
    "np.shape(y)"
   ]
  },
  {
   "cell_type": "code",
   "execution_count": 124,
   "metadata": {},
   "outputs": [
    {
     "data": {
      "text/plain": [
       "(661, 519)"
      ]
     },
     "execution_count": 124,
     "metadata": {},
     "output_type": "execute_result"
    }
   ],
   "source": [
    "np.shape(x_train)"
   ]
  }
 ],
 "metadata": {
  "kernelspec": {
   "display_name": "Python 3",
   "language": "python",
   "name": "python3"
  },
  "language_info": {
   "codemirror_mode": {
    "name": "ipython",
    "version": 3
   },
   "file_extension": ".py",
   "mimetype": "text/x-python",
   "name": "python",
   "nbconvert_exporter": "python",
   "pygments_lexer": "ipython3",
   "version": "3.10.6"
  }
 },
 "nbformat": 4,
 "nbformat_minor": 2
}
